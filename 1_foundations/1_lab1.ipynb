{
 "cells": [
  {
   "cell_type": "markdown",
   "metadata": {},
   "source": [
    "# Welcome to the start of your adventure in Agentic AI"
   ]
  },
  {
   "cell_type": "markdown",
   "metadata": {},
   "source": [
    "<table style=\"margin: 0; text-align: left; width:100%\">\n",
    "    <tr>\n",
    "        <td style=\"width: 150px; height: 150px; vertical-align: middle;\">\n",
    "            <img src=\"../assets/stop.png\" width=\"150\" height=\"150\" style=\"display: block;\" />\n",
    "        </td>\n",
    "        <td>\n",
    "            <h2 style=\"color:#ff7800;\">Are you ready for action??</h2>\n",
    "            <span style=\"color:#ff7800;\">Have you completed all the setup steps in the <a href=\"../setup/\">setup</a> folder?<br/>\n",
    "            Have you checked out the guides in the <a href=\"../guides/01_intro.ipynb\">guides</a> folder?<br/>\n",
    "            Well in that case, you're ready!!\n",
    "            </span>\n",
    "        </td>\n",
    "    </tr>\n",
    "</table>"
   ]
  },
  {
   "cell_type": "markdown",
   "metadata": {},
   "source": [
    "<table style=\"margin: 0; text-align: left; width:100%\">\n",
    "    <tr>\n",
    "        <td style=\"width: 150px; height: 150px; vertical-align: middle;\">\n",
    "            <img src=\"../assets/tools.png\" width=\"150\" height=\"150\" style=\"display: block;\" />\n",
    "        </td>\n",
    "        <td>\n",
    "            <h2 style=\"color:#00bfff;\">This code is a live resource - keep an eye out for my updates</h2>\n",
    "            <span style=\"color:#00bfff;\">I push updates regularly. As people ask questions or have problems, I add more examples and improve explanations. As a result, the code below might not be identical to the videos, as I've added more steps and better comments. Consider this like an interactive book that accompanies the lectures.<br/><br/>\n",
    "            I try to send emails regularly with important updates related to the course. You can find this in the 'Announcements' section of Udemy in the left sidebar. You can also choose to receive my emails via your Notification Settings in Udemy. I'm respectful of your inbox and always try to add value with my emails!\n",
    "            </span>\n",
    "        </td>\n",
    "    </tr>\n",
    "</table>"
   ]
  },
  {
   "cell_type": "markdown",
   "metadata": {},
   "source": [
    "### And please do remember to contact me if I can help\n",
    "\n",
    "And I love to connect: https://www.linkedin.com/in/eddonner/\n",
    "\n",
    "\n",
    "### New to Notebooks like this one? Head over to the guides folder!\n",
    "\n",
    "Just to check you've already added the Python and Jupyter extensions to Cursor, if not already installed:\n",
    "- Open extensions (View >> extensions)\n",
    "- Search for python, and when the results show, click on the ms-python one, and Install it if not already installed\n",
    "- Search for jupyter, and when the results show, click on the Microsoft one, and Install it if not already installed  \n",
    "Then View >> Explorer to bring back the File Explorer.\n",
    "\n",
    "And then:\n",
    "1. Click where it says \"Select Kernel\" near the top right, and select the option called `.venv (Python 3.12.9)` or similar, which should be the first choice or the most prominent choice. You may need to choose \"Python Environments\" first.\n",
    "2. Click in each \"cell\" below, starting with the cell immediately below this text, and press Shift+Enter to run\n",
    "3. Enjoy!\n",
    "\n",
    "After you click \"Select Kernel\", if there is no option like `.venv (Python 3.12.9)` then please do the following:  \n",
    "1. On Mac: From the Cursor menu, choose Settings >> VS Code Settings (NOTE: be sure to select `VSCode Settings` not `Cursor Settings`);  \n",
    "On Windows PC: From the File menu, choose Preferences >> VS Code Settings(NOTE: be sure to select `VSCode Settings` not `Cursor Settings`)  \n",
    "2. In the Settings search bar, type \"venv\"  \n",
    "3. In the field \"Path to folder with a list of Virtual Environments\" put the path to the project root, like C:\\Users\\username\\projects\\agents (on a Windows PC) or /Users/username/projects/agents (on Mac or Linux).  \n",
    "And then try again.\n",
    "\n",
    "Having problems with missing Python versions in that list? Have you ever used Anaconda before? It might be interferring. Quit Cursor, bring up a new command line, and make sure that your Anaconda environment is deactivated:    \n",
    "`conda deactivate`  \n",
    "And if you still have any problems with conda and python versions, it's possible that you will need to run this too:  \n",
    "`conda config --set auto_activate_base false`  \n",
    "and then from within the Agents directory, you should be able to run `uv python list` and see the Python 3.12 version."
   ]
  },
  {
   "cell_type": "code",
   "execution_count": 1,
   "metadata": {},
   "outputs": [],
   "source": [
    "# First let's do an import\n",
    "from dotenv import load_dotenv\n"
   ]
  },
  {
   "cell_type": "code",
   "execution_count": 2,
   "metadata": {},
   "outputs": [
    {
     "data": {
      "text/plain": [
       "True"
      ]
     },
     "execution_count": 2,
     "metadata": {},
     "output_type": "execute_result"
    }
   ],
   "source": [
    "# Next it's time to load the API keys into environment variables\n",
    "\n",
    "load_dotenv(override=True)"
   ]
  },
  {
   "cell_type": "code",
   "execution_count": 3,
   "metadata": {},
   "outputs": [
    {
     "name": "stdout",
     "output_type": "stream",
     "text": [
      "OpenAI API Key exists and begins sk-proj-\n"
     ]
    }
   ],
   "source": [
    "# Check the keys\n",
    "\n",
    "import os\n",
    "openai_api_key = os.getenv('OPENAI_API_KEY')\n",
    "\n",
    "if openai_api_key:\n",
    "    print(f\"OpenAI API Key exists and begins {openai_api_key[:8]}\")\n",
    "else:\n",
    "    print(\"OpenAI API Key not set - please head to the troubleshooting guide in the setup folder\")\n",
    "    \n"
   ]
  },
  {
   "cell_type": "code",
   "execution_count": 4,
   "metadata": {},
   "outputs": [],
   "source": [
    "# And now - the all important import statement\n",
    "# If you get an import error - head over to troubleshooting guide\n",
    "\n",
    "from openai import OpenAI"
   ]
  },
  {
   "cell_type": "code",
   "execution_count": 5,
   "metadata": {},
   "outputs": [],
   "source": [
    "# And now we'll create an instance of the OpenAI class\n",
    "# If you're not sure what it means to create an instance of a class - head over to the guides folder!\n",
    "# If you get a NameError - head over to the guides folder to learn about NameErrors\n",
    "\n",
    "openai = OpenAI()"
   ]
  },
  {
   "cell_type": "code",
   "execution_count": 6,
   "metadata": {},
   "outputs": [],
   "source": [
    "# Create a list of messages in the familiar OpenAI format\n",
    "\n",
    "messages = [{\"role\": \"user\", \"content\": \"What is 2+2?\"}]"
   ]
  },
  {
   "cell_type": "code",
   "execution_count": 7,
   "metadata": {},
   "outputs": [
    {
     "name": "stdout",
     "output_type": "stream",
     "text": [
      "2 + 2 equals 4.\n"
     ]
    }
   ],
   "source": [
    "# And now call it! Any problems, head to the troubleshooting guide\n",
    "# This uses GPT 4.1 nano, the incredibly cheap model\n",
    "\n",
    "response = openai.chat.completions.create(\n",
    "    model=\"gpt-4.1-nano\",\n",
    "    messages=messages\n",
    ")\n",
    "\n",
    "print(response.choices[0].message.content)\n"
   ]
  },
  {
   "cell_type": "code",
   "execution_count": 8,
   "metadata": {},
   "outputs": [],
   "source": [
    "# And now - let's ask for a question:\n",
    "\n",
    "question = \"Please propose a hard, challenging question to assess someone's IQ. Respond only with the question.\"\n",
    "messages = [{\"role\": \"user\", \"content\": question}]\n"
   ]
  },
  {
   "cell_type": "code",
   "execution_count": 9,
   "metadata": {},
   "outputs": [
    {
     "name": "stdout",
     "output_type": "stream",
     "text": [
      "A bat and a ball cost $1.10 in total. The bat costs $1.00 more than the ball. How much does the ball cost?\n"
     ]
    }
   ],
   "source": [
    "# ask it - this uses GPT 4.1 mini, still cheap but more powerful than nano\n",
    "\n",
    "response = openai.chat.completions.create(\n",
    "    model=\"gpt-4.1-mini\",\n",
    "    messages=messages\n",
    ")\n",
    "\n",
    "question = response.choices[0].message.content\n",
    "\n",
    "print(question)\n"
   ]
  },
  {
   "cell_type": "code",
   "execution_count": 10,
   "metadata": {},
   "outputs": [],
   "source": [
    "# form a new messages list\n",
    "messages = [{\"role\": \"user\", \"content\": question}]\n"
   ]
  },
  {
   "cell_type": "code",
   "execution_count": 11,
   "metadata": {},
   "outputs": [
    {
     "name": "stdout",
     "output_type": "stream",
     "text": [
      "Let's denote the cost of the ball as \\( x \\) dollars.\n",
      "\n",
      "Given:\n",
      "- The bat costs $1.00 more than the ball, so the bat costs \\( x + 1.00 \\) dollars.\n",
      "- Together, the bat and the ball cost $1.10.\n",
      "\n",
      "Set up the equation:\n",
      "\\[\n",
      "x + (x + 1.00) = 1.10\n",
      "\\]\n",
      "\n",
      "Simplify:\n",
      "\\[\n",
      "2x + 1.00 = 1.10\n",
      "\\]\n",
      "\n",
      "Subtract 1.00 from both sides:\n",
      "\\[\n",
      "2x = 0.10\n",
      "\\]\n",
      "\n",
      "Divide both sides by 2:\n",
      "\\[\n",
      "x = 0.05\n",
      "\\]\n",
      "\n",
      "**Answer:** The ball costs 5 cents.\n"
     ]
    }
   ],
   "source": [
    "# Ask it again\n",
    "\n",
    "response = openai.chat.completions.create(\n",
    "    model=\"gpt-4.1-mini\",\n",
    "    messages=messages\n",
    ")\n",
    "\n",
    "answer = response.choices[0].message.content\n",
    "print(answer)\n"
   ]
  },
  {
   "cell_type": "code",
   "execution_count": 12,
   "metadata": {},
   "outputs": [
    {
     "data": {
      "text/markdown": [
       "Let's denote the cost of the ball as \\( x \\) dollars.\n",
       "\n",
       "Given:\n",
       "- The bat costs $1.00 more than the ball, so the bat costs \\( x + 1.00 \\) dollars.\n",
       "- Together, the bat and the ball cost $1.10.\n",
       "\n",
       "Set up the equation:\n",
       "\\[\n",
       "x + (x + 1.00) = 1.10\n",
       "\\]\n",
       "\n",
       "Simplify:\n",
       "\\[\n",
       "2x + 1.00 = 1.10\n",
       "\\]\n",
       "\n",
       "Subtract 1.00 from both sides:\n",
       "\\[\n",
       "2x = 0.10\n",
       "\\]\n",
       "\n",
       "Divide both sides by 2:\n",
       "\\[\n",
       "x = 0.05\n",
       "\\]\n",
       "\n",
       "**Answer:** The ball costs 5 cents."
      ],
      "text/plain": [
       "<IPython.core.display.Markdown object>"
      ]
     },
     "metadata": {},
     "output_type": "display_data"
    }
   ],
   "source": [
    "from IPython.display import Markdown, display\n",
    "\n",
    "display(Markdown(answer))\n",
    "\n"
   ]
  },
  {
   "cell_type": "markdown",
   "metadata": {},
   "source": [
    "# Congratulations!\n",
    "\n",
    "That was a small, simple step in the direction of Agentic AI, with your new environment!\n",
    "\n",
    "Next time things get more interesting..."
   ]
  },
  {
   "cell_type": "markdown",
   "metadata": {},
   "source": [
    "<table style=\"margin: 0; text-align: left; width:100%\">\n",
    "    <tr>\n",
    "        <td style=\"width: 150px; height: 150px; vertical-align: middle;\">\n",
    "            <img src=\"../assets/exercise.png\" width=\"150\" height=\"150\" style=\"display: block;\" />\n",
    "        </td>\n",
    "        <td>\n",
    "            <h2 style=\"color:#ff7800;\">Exercise</h2>\n",
    "            <span style=\"color:#ff7800;\">Now try this commercial application:<br/>\n",
    "            First ask the LLM to pick a business area that might be worth exploring for an Agentic AI opportunity.<br/>\n",
    "            Then ask the LLM to present a pain-point in that industry - something challenging that might be ripe for an Agentic solution.<br/>\n",
    "            Finally have 3 third LLM call propose the Agentic AI solution.\n",
    "            </span>\n",
    "        </td>\n",
    "    </tr>\n",
    "</table>"
   ]
  },
  {
   "cell_type": "code",
   "execution_count": 16,
   "metadata": {},
   "outputs": [
    {
     "data": {
      "text/markdown": [
       "One promising business area for exploring an Agentic AI opportunity is **Personalized Healthcare and Wellness Management**.\n",
       "\n",
       "### Why Personalized Healthcare?\n",
       "\n",
       "- **Complex decision-making:** Healthcare involves vast amounts of patient data, complex medical guidelines, and personalized treatment plans. An agentic AI can autonomously assist in data synthesis and decision recommendations.\n",
       "- **Continuous Monitoring & Adaptation:** Agentic AI can continuously monitor patients' health data through wearable devices, adapting wellness plans proactively.\n",
       "- **Scalability:** There’s a growing demand for scalable health monitoring and personalized advice without constant human intervention.\n",
       "- **Improved Outcomes:** By acting autonomously to adjust treatment recommendations or flag urgent issues, agentic AI can improve patient outcomes and reduce burdens on healthcare providers.\n",
       "\n",
       "### Possible Agentic AI roles in this area:\n",
       "\n",
       "- **Personal Health Assistant:** Autonomously manage medication reminders, lifestyle coaching, and symptom monitoring.\n",
       "- **Early Warning Systems:** Detect early signs of health deterioration and escalate to healthcare professionals.\n",
       "- **Data Synthesis Agent:** Aggregate and interpret patient data from multiple sources (EHRs, wearables, labs) to optimize care plans.\n",
       "- **Mental Health Support:** Provide real-time emotional support, identify behavioral patterns, and recommend interventions.\n",
       "\n",
       "---\n",
       "\n",
       "If you want, I can help brainstorm specific product ideas or discuss challenges and ethical considerations in this area."
      ],
      "text/plain": [
       "<IPython.core.display.Markdown object>"
      ]
     },
     "metadata": {},
     "output_type": "display_data"
    },
    {
     "name": "stdout",
     "output_type": "stream",
     "text": [
      "\n",
      "Pain Points:\n"
     ]
    },
    {
     "data": {
      "text/markdown": [
       "Certainly! Here are some key pain points and challenges in the **Personalized Healthcare and Wellness Management** industry where an Agentic AI solution could provide significant value:\n",
       "\n",
       "### 1. Data Overload and Fragmentation\n",
       "- **Challenge:** Patient health data comes from diverse sources—EHRs, wearables, lab tests, imaging—and is often siloed or inconsistently formatted, making it difficult for healthcare providers to get a complete, cohesive picture.\n",
       "- **Agentic AI Opportunity:** Autonomously aggregate, clean, and synthesize heterogeneous data to provide actionable insights without overwhelming humans.\n",
       "\n",
       "### 2. Complex and Evolving Medical Guidelines\n",
       "- **Challenge:** Medical knowledge and treatment protocols change rapidly. Staying updated and applying the latest evidence to individual cases is time-consuming and error-prone.\n",
       "- **Agentic AI Opportunity:** Continuously scan latest research and clinical guidelines, autonomously updating personalized care recommendations accordingly.\n",
       "\n",
       "### 3. Adherence to Treatment Plans\n",
       "- **Challenge:** Patients often struggle to follow prescribed medication schedules, lifestyle changes, and therapy regimens, impacting health outcomes.\n",
       "- **Agentic AI Opportunity:** Provide personalized reminders, motivation, and adaptive coaching that adjusts based on patient behavior and preferences.\n",
       "\n",
       "### 4. Early Detection of Health Deterioration\n",
       "- **Challenge:** Subtle changes in health indicators may go unnoticed until they become serious, leading to costly hospital admissions.\n",
       "- **Agentic AI Opportunity:** Continuously monitor health data streams to detect early warning signs and autonomously initiate alerts and interventions proactively.\n",
       "\n",
       "### 5. Mental Health Monitoring and Support\n",
       "- **Challenge:** Mental health issues are often underreported and lack continuous monitoring compared to physical health.\n",
       "- **Agentic AI Opportunity:** Offer real-time emotional support, identify patterns indicating mental health risks, and suggest coping strategies or escalate care when needed.\n",
       "\n",
       "### 6. Patient Engagement and Personalized Wellness\n",
       "- **Challenge:** Generic health advice is less effective; patients respond better to personalized, culturally relevant, and context-aware guidance.\n",
       "- **Agentic AI Opportunity:** Tailor wellness recommendations dynamically by learning patient preferences, environmental factors, and lifestyle context autonomously.\n",
       "\n",
       "### 7. Scalability of Care in Resource-Constrained Settings\n",
       "- **Challenge:** There is a shortage of healthcare professionals relative to patient demand, especially for chronic condition management and preventive care.\n",
       "- **Agentic AI Opportunity:** Act as a first line of autonomous support, triaging cases that need human intervention and handling routine monitoring/interaction at scale.\n",
       "\n",
       "---\n",
       "\n",
       "If you want, we can now explore specific product ideas addressing these pain points or dive into ethical considerations like patient privacy, AI transparency, and clinical responsibility in deploying such autonomous agents. Just let me know!"
      ],
      "text/plain": [
       "<IPython.core.display.Markdown object>"
      ]
     },
     "metadata": {},
     "output_type": "display_data"
    },
    {
     "name": "stdout",
     "output_type": "stream",
     "text": [
      "\n",
      "Proposed AI Solution:\n"
     ]
    },
    {
     "data": {
      "text/markdown": [
       "Certainly! Here’s a specific Agentic AI solution proposal tailored for **Personalized Healthcare and Wellness Management** that addresses the outlined challenges and pain points:\n",
       "\n",
       "---\n",
       "\n",
       "## Solution Proposal: **HealthGuardian AI**  \n",
       "*An autonomous, agentic AI health management platform delivering continuous, personalized care and proactive health interventions.*\n",
       "\n",
       "### Overview:\n",
       "HealthGuardian AI acts as a comprehensive personal health agent that integrates multi-source patient data, dynamically updates care plans based on current guidelines, supports mental and physical health management, and autonomously escalates when urgent human intervention is needed. It empowers patients and providers by reducing data overload, improving treatment adherence, and enabling early detection of health risks at scale.\n",
       "\n",
       "---\n",
       "\n",
       "### Key Features:\n",
       "\n",
       "#### 1. **Unified Data Aggregation and Interpretation Engine**  \n",
       "- Automatically connects to EHRs, wearable devices, lab systems, imaging databases, and patient input portals.  \n",
       "- Normalizes and synthesizes heterogeneous data into a coherent patient health profile.  \n",
       "- Uses advanced ML models and natural language processing (NLP) to extract actionable insights.  \n",
       "\n",
       "#### 2. **Dynamic, Evidence-Based Care Plan Management**  \n",
       "- Continuously monitors new medical research, clinical guidelines, and relevant health advisories.  \n",
       "- Automatically refines personalized treatment and wellness plans based on up-to-date evidence tailored to each patient’s unique profile.  \n",
       "- Generates clear, prioritized recommendations accessible to patients and healthcare teams.  \n",
       "\n",
       "#### 3. **Autonomous Adherence and Lifestyle Coach**  \n",
       "- Sends personalized, context-aware medication reminders and lifestyle tips adapted to patient habits, preferences, and environment.  \n",
       "- Uses motivational interviewing techniques and behavioral nudges via conversational AI to improve adherence and engagement.  \n",
       "- Adapts interventions dynamically based on feedback and real-time monitoring.  \n",
       "\n",
       "#### 4. **Real-Time Health Monitoring and Early Warning System**  \n",
       "- Continuously analyzes streams of sensor data (e.g., heart rate, glucose, sleep quality) for subtle deviations or risk patterns.  \n",
       "- Alerts patients and caregivers immediately for critical signs, while triaging non-urgent concerns intelligently.  \n",
       "- Initiates autonomous preliminary interventions when appropriate (e.g., suggesting rest, hydration, or contacting care providers).  \n",
       "\n",
       "#### 5. **Integrated Mental Health Support Agent**  \n",
       "- Provides on-demand emotional support through empathetic conversational agents.  \n",
       "- Detects behavioral indicators of stress, anxiety, or depression from interactions and sensor data (e.g., sleep, activity).  \n",
       "- Suggests mindfulness exercises, coping strategies, or recommends human intervention/escalation when needed.  \n",
       "\n",
       "#### 6. **Scalable Virtual Health Assistant Interface**  \n",
       "- Accessible via smartphone app, smart home devices, and web portals.  \n",
       "- Facilitates seamless communication between patients, families, and healthcare teams.  \n",
       "- Supports multilingual and culturally sensitive interactions to improve accessibility.  \n",
       "\n",
       "---\n",
       "\n",
       "### Potential Benefits:\n",
       "\n",
       "- **For Patients:**  \n",
       "  - Improved health outcomes with proactive personalized care and early complication detection.  \n",
       "  - Greater convenience and empowerment managing their own health.  \n",
       "  - Enhanced adherence and lifestyle improvements through personalized coaching.  \n",
       "\n",
       "- **For Providers:**  \n",
       "  - Reduced cognitive load by automating data synthesis and routine monitoring tasks.  \n",
       "  - Timely identification of high-risk patients for targeted intervention.  \n",
       "  - Enhanced clinical decision support with dynamically updated evidence.  \n",
       "\n",
       "- **For Healthcare Systems:**  \n",
       "  - Scalable chronic care management reducing unnecessary hospitalizations and healthcare costs.  \n",
       "  - Extends reach of providers via autonomous triaging and continuous patient engagement.  \n",
       "  - Supports population health efforts by aggregating anonymized insights and trends.  \n",
       "\n",
       "---\n",
       "\n",
       "### Summary\n",
       "HealthGuardian AI leverages agentic autonomy to autonomously integrate and interpret diverse health data, dynamically update personalized care, promote adherence, and detect early health issues, including mental health, all while scaling care delivery in resource-constrained environments. This comprehensive approach directly addresses the critical challenges of fragmentation, complexity, engagement, and scalability in personalized healthcare.\n",
       "\n",
       "---\n",
       "\n",
       "If you’d like, I can help you draft go-to-market strategies, user journey maps, or address regulatory and ethical considerations specific to deploying this agentic AI solution."
      ],
      "text/plain": [
       "<IPython.core.display.Markdown object>"
      ]
     },
     "metadata": {},
     "output_type": "display_data"
    }
   ],
   "source": [
    "# First create the messages:\n",
    "\n",
    "messages = [{\"role\": \"user\", \"content\": \"Pick a business area that might be worth exploring for an Agentic AI opportunity\"}]\n",
    "\n",
    "# Then make the first call:\n",
    "\n",
    "response = openai.chat.completions.create(\n",
    "    model=\"gpt-4.1-mini\",\n",
    "    messages=messages\n",
    ")\n",
    "\n",
    "# Then read the business idea:\n",
    "business_idea = response.choices[0].message.content\n",
    "\n",
    "display(Markdown(business_idea))\n",
    "\n",
    "# Create messages for pain points analysis\n",
    "messages = [\n",
    "    {\"role\": \"user\", \"content\": f\"Based on the business area of {business_idea}, identify key pain points or challenges in this industry that could benefit from an Agentic AI solution.\"}\n",
    "]\n",
    "\n",
    "# Make the API call\n",
    "response = openai.chat.completions.create(\n",
    "    model=\"gpt-4.1-mini\",\n",
    "    messages=messages\n",
    ")\n",
    "\n",
    "# Get the pain points\n",
    "pain_points = response.choices[0].message.content\n",
    "print(\"\\nPain Points:\")\n",
    "display(Markdown(pain_points))\n",
    "\n",
    "\n",
    "# And repeat!\n",
    "# Create messages for AI solution proposal\n",
    "messages = [\n",
    "    {\"role\": \"user\", \"content\": f\"Based on the business area of {business_idea} and the identified pain points: {pain_points}, propose a specific Agentic AI solution that could address these challenges. Include key features and potential benefits.\"}\n",
    "]\n",
    "\n",
    "# Make the API call\n",
    "response = openai.chat.completions.create(\n",
    "    model=\"gpt-4.1-mini\",\n",
    "    messages=messages\n",
    ")\n",
    "\n",
    "# Get the AI solution proposal\n",
    "ai_solution = response.choices[0].message.content\n",
    "print(\"\\nProposed AI Solution:\")\n",
    "display(Markdown(ai_solution))"
   ]
  },
  {
   "cell_type": "markdown",
   "metadata": {},
   "source": []
  }
 ],
 "metadata": {
  "kernelspec": {
   "display_name": ".venv",
   "language": "python",
   "name": "python3"
  },
  "language_info": {
   "codemirror_mode": {
    "name": "ipython",
    "version": 3
   },
   "file_extension": ".py",
   "mimetype": "text/x-python",
   "name": "python",
   "nbconvert_exporter": "python",
   "pygments_lexer": "ipython3",
   "version": "3.12.10"
  }
 },
 "nbformat": 4,
 "nbformat_minor": 2
}
