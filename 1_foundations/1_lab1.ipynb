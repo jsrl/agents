{
 "cells": [
  {
   "cell_type": "markdown",
   "metadata": {},
   "source": [
    "# Welcome to the start of your adventure in Agentic AI"
   ]
  },
  {
   "cell_type": "markdown",
   "metadata": {},
   "source": [
    "<table style=\"margin: 0; text-align: left; width:100%\">\n",
    "    <tr>\n",
    "        <td style=\"width: 150px; height: 150px; vertical-align: middle;\">\n",
    "            <img src=\"../assets/stop.png\" width=\"150\" height=\"150\" style=\"display: block;\" />\n",
    "        </td>\n",
    "        <td>\n",
    "            <h2 style=\"color:#ff7800;\">Are you ready for action??</h2>\n",
    "            <span style=\"color:#ff7800;\">Have you completed all the setup steps in the <a href=\"../setup/\">setup</a> folder?<br/>\n",
    "            Have you checked out the guides in the <a href=\"../guides/01_intro.ipynb\">guides</a> folder?<br/>\n",
    "            Well in that case, you're ready!!\n",
    "            </span>\n",
    "        </td>\n",
    "    </tr>\n",
    "</table>"
   ]
  },
  {
   "cell_type": "markdown",
   "metadata": {},
   "source": [
    "<table style=\"margin: 0; text-align: left; width:100%\">\n",
    "    <tr>\n",
    "        <td style=\"width: 150px; height: 150px; vertical-align: middle;\">\n",
    "            <img src=\"../assets/tools.png\" width=\"150\" height=\"150\" style=\"display: block;\" />\n",
    "        </td>\n",
    "        <td>\n",
    "            <h2 style=\"color:#00bfff;\">This code is a live resource - keep an eye out for my updates</h2>\n",
    "            <span style=\"color:#00bfff;\">I push updates regularly. As people ask questions or have problems, I add more examples and improve explanations. As a result, the code below might not be identical to the videos, as I've added more steps and better comments. Consider this like an interactive book that accompanies the lectures.<br/><br/>\n",
    "            I try to send emails regularly with important updates related to the course. You can find this in the 'Announcements' section of Udemy in the left sidebar. You can also choose to receive my emails via your Notification Settings in Udemy. I'm respectful of your inbox and always try to add value with my emails!\n",
    "            </span>\n",
    "        </td>\n",
    "    </tr>\n",
    "</table>"
   ]
  },
  {
   "cell_type": "markdown",
   "metadata": {},
   "source": [
    "### And please do remember to contact me if I can help\n",
    "\n",
    "And I love to connect: https://www.linkedin.com/in/eddonner/\n",
    "\n",
    "\n",
    "### New to Notebooks like this one? Head over to the guides folder!\n",
    "\n",
    "Just to check you've already added the Python and Jupyter extensions to Cursor, if not already installed:\n",
    "- Open extensions (View >> extensions)\n",
    "- Search for python, and when the results show, click on the ms-python one, and Install it if not already installed\n",
    "- Search for jupyter, and when the results show, click on the Microsoft one, and Install it if not already installed  \n",
    "Then View >> Explorer to bring back the File Explorer.\n",
    "\n",
    "And then:\n",
    "1. Click where it says \"Select Kernel\" near the top right, and select the option called `.venv (Python 3.12.9)` or similar, which should be the first choice or the most prominent choice. You may need to choose \"Python Environments\" first.\n",
    "2. Click in each \"cell\" below, starting with the cell immediately below this text, and press Shift+Enter to run\n",
    "3. Enjoy!\n",
    "\n",
    "After you click \"Select Kernel\", if there is no option like `.venv (Python 3.12.9)` then please do the following:  \n",
    "1. On Mac: From the Cursor menu, choose Settings >> VS Code Settings (NOTE: be sure to select `VSCode Settings` not `Cursor Settings`);  \n",
    "On Windows PC: From the File menu, choose Preferences >> VS Code Settings(NOTE: be sure to select `VSCode Settings` not `Cursor Settings`)  \n",
    "2. In the Settings search bar, type \"venv\"  \n",
    "3. In the field \"Path to folder with a list of Virtual Environments\" put the path to the project root, like C:\\Users\\username\\projects\\agents (on a Windows PC) or /Users/username/projects/agents (on Mac or Linux).  \n",
    "And then try again.\n",
    "\n",
    "Having problems with missing Python versions in that list? Have you ever used Anaconda before? It might be interferring. Quit Cursor, bring up a new command line, and make sure that your Anaconda environment is deactivated:    \n",
    "`conda deactivate`  \n",
    "And if you still have any problems with conda and python versions, it's possible that you will need to run this too:  \n",
    "`conda config --set auto_activate_base false`  \n",
    "and then from within the Agents directory, you should be able to run `uv python list` and see the Python 3.12 version."
   ]
  },
  {
   "cell_type": "code",
   "execution_count": 1,
   "metadata": {},
   "outputs": [],
   "source": [
    "# First let's do an import\n",
    "from dotenv import load_dotenv\n"
   ]
  },
  {
   "cell_type": "code",
   "execution_count": 2,
   "metadata": {},
   "outputs": [
    {
     "data": {
      "text/plain": [
       "True"
      ]
     },
     "execution_count": 2,
     "metadata": {},
     "output_type": "execute_result"
    }
   ],
   "source": [
    "# Next it's time to load the API keys into environment variables\n",
    "\n",
    "load_dotenv(override=True)"
   ]
  },
  {
   "cell_type": "code",
   "execution_count": 3,
   "metadata": {},
   "outputs": [
    {
     "name": "stdout",
     "output_type": "stream",
     "text": [
      "OpenAI API Key exists and begins sk-proj-\n"
     ]
    }
   ],
   "source": [
    "# Check the keys\n",
    "\n",
    "import os\n",
    "openai_api_key = os.getenv('OPENAI_API_KEY')\n",
    "\n",
    "if openai_api_key:\n",
    "    print(f\"OpenAI API Key exists and begins {openai_api_key[:8]}\")\n",
    "else:\n",
    "    print(\"OpenAI API Key not set - please head to the troubleshooting guide in the setup folder\")\n",
    "    \n"
   ]
  },
  {
   "cell_type": "code",
   "execution_count": 4,
   "metadata": {},
   "outputs": [],
   "source": [
    "# And now - the all important import statement\n",
    "# If you get an import error - head over to troubleshooting guide\n",
    "\n",
    "from openai import OpenAI"
   ]
  },
  {
   "cell_type": "code",
   "execution_count": 5,
   "metadata": {},
   "outputs": [],
   "source": [
    "# And now we'll create an instance of the OpenAI class\n",
    "# If you're not sure what it means to create an instance of a class - head over to the guides folder!\n",
    "# If you get a NameError - head over to the guides folder to learn about NameErrors\n",
    "\n",
    "openai = OpenAI()"
   ]
  },
  {
   "cell_type": "code",
   "execution_count": 6,
   "metadata": {},
   "outputs": [],
   "source": [
    "# Create a list of messages in the familiar OpenAI format\n",
    "\n",
    "messages = [{\"role\": \"user\", \"content\": \"What is 2+2?\"}]"
   ]
  },
  {
   "cell_type": "code",
   "execution_count": 7,
   "metadata": {},
   "outputs": [
    {
     "name": "stdout",
     "output_type": "stream",
     "text": [
      "2 + 2 equals 4.\n"
     ]
    }
   ],
   "source": [
    "# And now call it! Any problems, head to the troubleshooting guide\n",
    "# This uses GPT 4.1 nano, the incredibly cheap model\n",
    "\n",
    "response = openai.chat.completions.create(\n",
    "    model=\"gpt-4.1-nano\",\n",
    "    messages=messages\n",
    ")\n",
    "\n",
    "print(response.choices[0].message.content)\n"
   ]
  },
  {
   "cell_type": "code",
   "execution_count": 8,
   "metadata": {},
   "outputs": [],
   "source": [
    "# And now - let's ask for a question:\n",
    "\n",
    "question = \"Please propose a hard, challenging question to assess someone's IQ. Respond only with the question.\"\n",
    "messages = [{\"role\": \"user\", \"content\": question}]\n"
   ]
  },
  {
   "cell_type": "code",
   "execution_count": 9,
   "metadata": {},
   "outputs": [
    {
     "name": "stdout",
     "output_type": "stream",
     "text": [
      "A bat and a ball cost $1.10 in total. The bat costs $1.00 more than the ball. How much does the ball cost?\n"
     ]
    }
   ],
   "source": [
    "# ask it - this uses GPT 4.1 mini, still cheap but more powerful than nano\n",
    "\n",
    "response = openai.chat.completions.create(\n",
    "    model=\"gpt-4.1-mini\",\n",
    "    messages=messages\n",
    ")\n",
    "\n",
    "question = response.choices[0].message.content\n",
    "\n",
    "print(question)\n"
   ]
  },
  {
   "cell_type": "code",
   "execution_count": 10,
   "metadata": {},
   "outputs": [],
   "source": [
    "# form a new messages list\n",
    "messages = [{\"role\": \"user\", \"content\": question}]\n"
   ]
  },
  {
   "cell_type": "code",
   "execution_count": 11,
   "metadata": {},
   "outputs": [
    {
     "name": "stdout",
     "output_type": "stream",
     "text": [
      "Let's denote the cost of the ball as \\( x \\) dollars.\n",
      "\n",
      "Given:\n",
      "- The bat costs $1.00 more than the ball, so the bat costs \\( x + 1.00 \\) dollars.\n",
      "- Together, the bat and the ball cost $1.10.\n",
      "\n",
      "Set up the equation:\n",
      "\\[\n",
      "x + (x + 1.00) = 1.10\n",
      "\\]\n",
      "\n",
      "Simplify:\n",
      "\\[\n",
      "2x + 1.00 = 1.10\n",
      "\\]\n",
      "\n",
      "Subtract 1.00 from both sides:\n",
      "\\[\n",
      "2x = 0.10\n",
      "\\]\n",
      "\n",
      "Divide both sides by 2:\n",
      "\\[\n",
      "x = 0.05\n",
      "\\]\n",
      "\n",
      "**Answer:** The ball costs 5 cents.\n"
     ]
    }
   ],
   "source": [
    "# Ask it again\n",
    "\n",
    "response = openai.chat.completions.create(\n",
    "    model=\"gpt-4.1-mini\",\n",
    "    messages=messages\n",
    ")\n",
    "\n",
    "answer = response.choices[0].message.content\n",
    "print(answer)\n"
   ]
  },
  {
   "cell_type": "code",
   "execution_count": 12,
   "metadata": {},
   "outputs": [
    {
     "data": {
      "text/markdown": [
       "Let's denote the cost of the ball as \\( x \\) dollars.\n",
       "\n",
       "Given:\n",
       "- The bat costs $1.00 more than the ball, so the bat costs \\( x + 1.00 \\) dollars.\n",
       "- Together, the bat and the ball cost $1.10.\n",
       "\n",
       "Set up the equation:\n",
       "\\[\n",
       "x + (x + 1.00) = 1.10\n",
       "\\]\n",
       "\n",
       "Simplify:\n",
       "\\[\n",
       "2x + 1.00 = 1.10\n",
       "\\]\n",
       "\n",
       "Subtract 1.00 from both sides:\n",
       "\\[\n",
       "2x = 0.10\n",
       "\\]\n",
       "\n",
       "Divide both sides by 2:\n",
       "\\[\n",
       "x = 0.05\n",
       "\\]\n",
       "\n",
       "**Answer:** The ball costs 5 cents."
      ],
      "text/plain": [
       "<IPython.core.display.Markdown object>"
      ]
     },
     "metadata": {},
     "output_type": "display_data"
    }
   ],
   "source": [
    "from IPython.display import Markdown, display\n",
    "\n",
    "display(Markdown(answer))\n",
    "\n"
   ]
  },
  {
   "cell_type": "markdown",
   "metadata": {},
   "source": [
    "# Congratulations!\n",
    "\n",
    "That was a small, simple step in the direction of Agentic AI, with your new environment!\n",
    "\n",
    "Next time things get more interesting..."
   ]
  },
  {
   "cell_type": "markdown",
   "metadata": {},
   "source": [
    "<table style=\"margin: 0; text-align: left; width:100%\">\n",
    "    <tr>\n",
    "        <td style=\"width: 150px; height: 150px; vertical-align: middle;\">\n",
    "            <img src=\"../assets/exercise.png\" width=\"150\" height=\"150\" style=\"display: block;\" />\n",
    "        </td>\n",
    "        <td>\n",
    "            <h2 style=\"color:#ff7800;\">Exercise</h2>\n",
    "            <span style=\"color:#ff7800;\">Now try this commercial application:<br/>\n",
    "            First ask the LLM to pick a business area that might be worth exploring for an Agentic AI opportunity.<br/>\n",
    "            Then ask the LLM to present a pain-point in that industry - something challenging that might be ripe for an Agentic solution.<br/>\n",
    "            Finally have 3 third LLM call propose the Agentic AI solution.\n",
    "            </span>\n",
    "        </td>\n",
    "    </tr>\n",
    "</table>"
   ]
  },
  {
   "cell_type": "code",
   "execution_count": 17,
   "metadata": {},
   "outputs": [
    {
     "name": "stdout",
     "output_type": "stream",
     "text": [
      "\n",
      "Business Area:\n"
     ]
    },
    {
     "data": {
      "text/markdown": [
       "One promising business area for an Agentic AI opportunity is **personalized healthcare management**.\n",
       "\n",
       "### Why Personalized Healthcare Management?\n",
       "\n",
       "1. **Complex, continuous decision-making:** Managing a person’s health involves ongoing evaluation of symptoms, medications, lifestyle factors, and potential risks. An agentic AI can autonomously gather data, monitor patient status, suggest interventions, and coordinate with healthcare providers.\n",
       "\n",
       "2. **Data-rich environment:** With wearable devices, electronic medical records, genetic data, and lifestyle apps, there’s a wealth of structured and unstructured data for an Agentic AI to analyze and act upon.\n",
       "\n",
       "3. **High impact:** Improved healthcare outcomes and cost savings through proactive and personalized care represent significant value for patients, providers, and payers.\n",
       "\n",
       "4. **Regulatory and ethical fit:** While healthcare is highly regulated, agentic AI can operate within clear ethical frameworks and under human oversight, adding value without overstepping boundaries.\n",
       "\n",
       "### Example Use Cases\n",
       "\n",
       "- Continuous monitoring and adjustment of chronic disease management (e.g., diabetes, hypertension).\n",
       "- Personalized medication adherence plans and reminders.\n",
       "- Dynamic lifestyle recommendations based on real-time data (diet, exercise, sleep).\n",
       "- Early detection of health deteriorations and automated scheduling of doctor visits or tests.\n",
       "\n",
       "Agentic AI in personalized healthcare management could act autonomously, learn from new data, and improve patient outcomes by proactively managing complex health scenarios—making it a business area ripe for exploration."
      ],
      "text/plain": [
       "<IPython.core.display.Markdown object>"
      ]
     },
     "metadata": {},
     "output_type": "display_data"
    },
    {
     "name": "stdout",
     "output_type": "stream",
     "text": [
      "\n",
      "Pain Points:\n"
     ]
    },
    {
     "data": {
      "text/markdown": [
       "Certainly! Here are key pain points or challenges in the personalized healthcare management industry that could benefit significantly from an Agentic AI solution:\n",
       "\n",
       "### 1. **Fragmented Data Sources and Integration Issues**\n",
       "- Patient health data is scattered across various platforms: wearables, EMRs (Electronic Medical Records), labs, pharmacies, and personal tracking apps.\n",
       "- This fragmentation makes it difficult for patients and providers to get a unified, real-time view of health status.\n",
       "- **Agentic AI can autonomously integrate and synthesize disparate data streams** to provide a comprehensive health profile.\n",
       "\n",
       "### 2. **Patient Engagement and Adherence**\n",
       "- Many patients struggle to consistently follow complex medication schedules or lifestyle recommendations.\n",
       "- Traditional methods of reminders and education often have limited effectiveness.\n",
       "- **Agentic AI can deliver personalized, adaptive engagement strategies** tailored to an individual's behavior patterns, preferences, and motivational factors.\n",
       "\n",
       "### 3. **Proactive and Preventative Care Challenges**\n",
       "- Healthcare often remains reactive rather than proactive; signs of deterioration might be caught too late.\n",
       "- Early detection of complications or health decline requires continuous monitoring and analysis.\n",
       "- **Agentic AI can continuously monitor evolving patient data to predict risks** and suggest interventions before conditions worsen.\n",
       "\n",
       "### 4. **Resource and Time Constraints on Healthcare Providers**\n",
       "- Clinicians are overwhelmed with data and administrative tasks, limiting time for personalized care discussions.\n",
       "- Coordination between multiple providers (specialists, primary care, labs) is cumbersome.\n",
       "- **Agentic AI can automate routine data analysis and care coordination**, providing actionable insights and freeing up provider time.\n",
       "\n",
       "### 5. **Dynamic and Complex Decision-Making**\n",
       "- Managing chronic conditions involves balancing multiple factors — medications, diet, activity levels, comorbidities, and fluctuating symptoms.\n",
       "- Healthcare guidelines are often static and generalized, lacking personalization.\n",
       "- **Agentic AI can continuously learn from new patient data and outcomes** to optimize individualized care plans dynamically.\n",
       "\n",
       "### 6. **Behavioral and Lifestyle Modification Barriers**\n",
       "- Patients find it difficult to maintain lasting changes to exercise, diet, sleep, and stress management.\n",
       "- Interventions often lack personalization and fail to adapt to real-world changes.\n",
       "- **Agentic AI can tailor real-time lifestyle coaching and adapt recommendations** based on current patient context and preferences.\n",
       "\n",
       "### 7. **Data Privacy and Ethical Concerns**\n",
       "- Handling sensitive health data requires strict compliance with regulations (e.g., HIPAA).\n",
       "- Patients and providers require transparency and trust in AI decisions.\n",
       "- **Agentic AI must operate with robust ethical frameworks, human oversight, and secure data handling** to ensure compliance and trust.\n",
       "\n",
       "---\n",
       "\n",
       "### Summary\n",
       "\n",
       "| Pain Point                           | Agentic AI Benefit                         |\n",
       "|------------------------------------|-------------------------------------------|\n",
       "| Fragmented data integration        | Autonomous multi-source data unification  |\n",
       "| Patient adherence difficulties     | Personalized, adaptive engagement          |\n",
       "| Reactive care model                | Proactive risk prediction and intervention |\n",
       "| Healthcare provider overload       | Automation of data analysis & coordination |\n",
       "| Complex personalized decision-making | Dynamic, continuous care plan optimization |\n",
       "| Sustaining behavioral change       | Real-time, personalized lifestyle coaching |\n",
       "| Privacy and ethical concerns       | Transparent, compliant, human-in-the-loop AI |\n",
       "\n",
       "Addressing these challenges using agentic AI could transform personalized healthcare management, leading to better outcomes, reduced costs, and improved patient and provider experiences."
      ],
      "text/plain": [
       "<IPython.core.display.Markdown object>"
      ]
     },
     "metadata": {},
     "output_type": "display_data"
    },
    {
     "name": "stdout",
     "output_type": "stream",
     "text": [
      "\n",
      "Proposed AI Solution:\n"
     ]
    },
    {
     "data": {
      "text/markdown": [
       "Certainly! Below is a proposal for a specific **Agentic AI solution** tailored to address the highlighted challenges in personalized healthcare management.\n",
       "\n",
       "---\n",
       "\n",
       "## Solution Proposal: **HealthAgent AI — Personalized Healthcare Management Agent**\n",
       "\n",
       "### Overview\n",
       "HealthAgent AI is an autonomous, intelligent agent designed to manage comprehensive, personalized patient care by integrating diverse data sources, engaging patients adaptively, enabling proactive interventions, and supporting healthcare providers with actionable insights—all while ensuring data privacy and ethical compliance.\n",
       "\n",
       "---\n",
       "\n",
       "### Key Features\n",
       "\n",
       "1. **Unified Data Integration and Synthesis**\n",
       "   - Automatically aggregates data from wearables, EMRs, labs, pharmacies, and patient-input apps.\n",
       "   - Uses advanced natural language processing (NLP) and data fusion techniques to interpret structured and unstructured health data.\n",
       "   - Maintains a dynamic, up-to-date, comprehensive health profile for each patient.\n",
       "\n",
       "2. **Adaptive Patient Engagement Engine**\n",
       "   - Employs behavioral analytics and reinforcement learning to tailor communication styles, reminders, and motivational nudges.\n",
       "   - Adapts engagement strategies in real time based on patient responses, preferences, and lifestyle changes.\n",
       "   - Supports multimodal interaction (mobile app notifications, voice assistants, SMS, email).\n",
       "\n",
       "3. **Continuous Health Monitoring and Risk Prediction**\n",
       "   - Monitors vital signs, symptoms, and lifestyle data via connected devices in real time.\n",
       "   - Predicts health deterioration or high-risk events using machine learning models trained on large clinical datasets and patient history.\n",
       "   - Automatically initiates alerts or schedules medical appointments as needed.\n",
       "\n",
       "4. **Dynamic Care Plan Optimization**\n",
       "   - Continuously updates personalized care plans based on new data, clinical guidelines, and emerging patient needs.\n",
       "   - Balances medications, lifestyle factors, and comorbidities to optimize outcomes.\n",
       "   - Provides decision support to clinicians through explainable AI insights.\n",
       "\n",
       "5. **Care Coordination and Automation**\n",
       "   - Facilitates secure communication between specialists, primary care providers, labs, and pharmacies.\n",
       "   - Automates routine documentation, data reporting, and appointment scheduling.\n",
       "   - Ensures smooth transitions and consistent messaging across care teams.\n",
       "\n",
       "6. **Personalized Lifestyle Coaching**\n",
       "   - Delivers real-time, context-aware advice on diet, exercise, sleep, stress, and other behaviors.\n",
       "   - Uses gamification and reward systems to incentivize sustainable behavior changes.\n",
       "   - Monitors progress and adjusts recommendations dynamically.\n",
       "\n",
       "7. **Privacy, Security, and Ethical Governance**\n",
       "   - Implements HIPAA-compliant data handling and encryption protocols.\n",
       "   - Includes human-in-the-loop oversight for critical decisions.\n",
       "   - Provides transparent audit trails and AI decision explanations to build trust.\n",
       "   - Incorporates patient consent management and data sharing controls.\n",
       "\n",
       "---\n",
       "\n",
       "### Potential Benefits\n",
       "\n",
       "| Stakeholder            | Benefits                                               |\n",
       "|-----------------------|---------------------------------------------------------|\n",
       "| **Patients**          | Improved health outcomes, personalized support, enhanced engagement, and proactive alerts reducing emergencies. |\n",
       "| **Healthcare Providers** | Reduced administrative burden, better-informed decisions, streamlined coordination among care teams, more time for direct patient care. |\n",
       "| **Payers / Healthcare Systems** | Cost savings through reduced hospitalizations, emergency visits, and more efficient resource utilization. |\n",
       "| **Regulators / Ethicists** | AI system designed for transparency, data privacy, and ethical compliance fosters trust and accelerates adoption. |\n",
       "\n",
       "---\n",
       "\n",
       "### Use Case Illustration\n",
       "\n",
       "**Diabetes Management:**\n",
       "\n",
       "- HealthAgent AI automatically collects glucose readings, diet logs, physical activity, and medication adherence.\n",
       "- Identifies early signs of glycemic variability or risk of hypo/hyperglycemia.\n",
       "- Sends personalized lifestyle tips and motivational nudges to improve adherence.\n",
       "- Alerts patient and provider if intervention is needed, and coordinates a teleconsultation.\n",
       "- Continuously optimizes insulin dosage recommendations and lifestyle suggestions based on real-time data and outcomes.\n",
       "\n",
       "---\n",
       "\n",
       "### Conclusion\n",
       "\n",
       "HealthAgent AI provides a truly agentic solution, not simply reacting but proactively coordinating and optimizing care autonomously. By addressing fragmented data, patient adherence, proactive care, provider overload, complex decision-making, lifestyle behavior, and privacy concerns, it offers transformative potential for personalized healthcare management.\n",
       "\n",
       "Would you like me to further elaborate on system architecture, technology stack, or go-to-market strategies for HealthAgent AI?"
      ],
      "text/plain": [
       "<IPython.core.display.Markdown object>"
      ]
     },
     "metadata": {},
     "output_type": "display_data"
    }
   ],
   "source": [
    "from IPython.display import Markdown, display\n",
    "import openai\n",
    "\n",
    "# Configuration\n",
    "MODEL = \"gpt-4.1-mini\"\n",
    "\n",
    "def ask_openai(prompt):\n",
    "    response = openai.chat.completions.create(\n",
    "        model=MODEL,\n",
    "        messages=[{\"role\": \"user\", \"content\": prompt}]\n",
    "    )\n",
    "    return response.choices[0].message.content\n",
    "\n",
    "def show_markdown(title, content):\n",
    "    print(f\"\\n{title}:\")\n",
    "    display(Markdown(content))\n",
    "\n",
    "# Step 1: Get a promising business area\n",
    "business_area_prompt = \"Pick a business area that might be worth exploring for an Agentic AI opportunity.\"\n",
    "business_area = ask_openai(business_area_prompt)\n",
    "show_markdown(\"Business Area\", business_area)\n",
    "\n",
    "# Step 2: Identify key pain points\n",
    "pain_points_prompt = f\"Based on the business area of {business_area}, identify key pain points or challenges in this industry that could benefit from an Agentic AI solution.\"\n",
    "pain_points = ask_openai(pain_points_prompt)\n",
    "show_markdown(\"Pain Points\", pain_points)\n",
    "\n",
    "# Step 3: Propose an Agentic AI solution\n",
    "solution_prompt = (\n",
    "    f\"Based on the business area of {business_area} and the identified pain points: {pain_points}, \"\n",
    "    \"propose a specific Agentic AI solution that could address these challenges. \"\n",
    "    \"Include key features and potential benefits.\"\n",
    ")\n",
    "ai_solution = ask_openai(solution_prompt)\n",
    "show_markdown(\"Proposed AI Solution\", ai_solution)\n"
   ]
  },
  {
   "cell_type": "markdown",
   "metadata": {},
   "source": []
  }
 ],
 "metadata": {
  "kernelspec": {
   "display_name": ".venv",
   "language": "python",
   "name": "python3"
  },
  "language_info": {
   "codemirror_mode": {
    "name": "ipython",
    "version": 3
   },
   "file_extension": ".py",
   "mimetype": "text/x-python",
   "name": "python",
   "nbconvert_exporter": "python",
   "pygments_lexer": "ipython3",
   "version": "3.12.10"
  }
 },
 "nbformat": 4,
 "nbformat_minor": 2
}
